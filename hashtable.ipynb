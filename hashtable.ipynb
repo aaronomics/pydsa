{
 "cells": [
  {
   "cell_type": "markdown",
   "metadata": {},
   "source": [
    "dictionary is a built in hash table\n",
    "\n",
    "hash is a function that is run on the key of the key-value pair\n",
    "\n",
    "characteristics of a hash:\n",
    "- one way\n",
    "- deterministic - for a particular hash function, for a specific input you expect a specific output\n",
    "\n",
    "collisions: when you put a k/v pair at an address when there is already a k/v pair present\n",
    "- both pairs are stored within a new list at the same address\n",
    "- also called \"separate chaining\"\n",
    "- linear probing - keep looking for an empty address to store a new k/v pair\n",
    "- could also have a linked list stored at each address\n",
    "\n"
   ]
  },
  {
   "cell_type": "code",
   "execution_count": 2,
   "metadata": {},
   "outputs": [
    {
     "name": "stdout",
     "output_type": "stream",
     "text": [
      "0 :  None\n",
      "1 :  None\n",
      "2 :  None\n",
      "3 :  None\n",
      "4 :  None\n",
      "5 :  None\n",
      "6 :  None\n"
     ]
    }
   ],
   "source": [
    "class HashTable:\n",
    "    def __init__(self, size=7):\n",
    "        self.data_map = [None] * size\n",
    "\n",
    "    def __hash(self, key):\n",
    "        my_hash = 0\n",
    "        for letter in key:\n",
    "            my_hash = my_hash * ord(letter) * 23 % len(self.data_map)\n",
    "\n",
    "        # my_hash is the address that we are placing the key/val pair in the hash table\n",
    "        return my_hash\n",
    "\n",
    "    def print_table(self):\n",
    "        for i, val in enumerate(self.data_map):\n",
    "            print(i, \": \", val)\n",
    "\n",
    "\n",
    "tab = HashTable()\n",
    "tab.print_table()"
   ]
  }
 ],
 "metadata": {
  "kernelspec": {
   "display_name": "base",
   "language": "python",
   "name": "python3"
  },
  "language_info": {
   "codemirror_mode": {
    "name": "ipython",
    "version": 3
   },
   "file_extension": ".py",
   "mimetype": "text/x-python",
   "name": "python",
   "nbconvert_exporter": "python",
   "pygments_lexer": "ipython3",
   "version": "3.12.7"
  }
 },
 "nbformat": 4,
 "nbformat_minor": 2
}
