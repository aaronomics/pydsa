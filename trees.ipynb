{
 "cells": [
  {
   "cell_type": "markdown",
   "metadata": {},
   "source": [
    "full tree - every node either points to 0 nodes or 2 nodes\n",
    "perfect tree - every level of tree is completely full\n",
    "complete tree - tree filled from left to right with no gaps\n",
    "\n",
    "parent node - points to two child nodes\n",
    "child node - has a single parent, aka leaf\n",
    "siblings - child nodes of a single parent\n",
    "if a child has more than one parent, structure is not a tree"
   ]
  },
  {
   "cell_type": "markdown",
   "metadata": {},
   "source": [
    "binary search trees\n",
    "\n",
    "binary search trees are sorted\n",
    "\n",
    "each value is sorted on each level of tree, if less than, go left, if greater, go right, and repeat at each level\n",
    "\n"
   ]
  },
  {
   "cell_type": "markdown",
   "metadata": {},
   "source": [
    "bst big o\n",
    "\n",
    "O(log n) - very efficient, divide and conquer\n",
    "\n",
    "insert - faster for linked list\n",
    "lookup - faster for bst\n",
    "remove - faster for best"
   ]
  },
  {
   "cell_type": "markdown",
   "metadata": {},
   "source": [
    "pseudo code for insert\n",
    "\n",
    "create new_node\n",
    "if root == None then root = new_node\n",
    "temp = self.root\n",
    "while loop\n",
    "    if new_node == temp return False\n",
    "    if < left else > right\n",
    "    if None insert new_node else move to next\n",
    "\n",
    "\n",
    "pseudo code for contains\n",
    "\n",
    "if root == None return False\n",
    "temp = self.root\n",
    "while temp is not None:\n",
    "    if < left\n",
    "    elif > right\n",
    "    else = return True\n",
    "return False\n"
   ]
  },
  {
   "cell_type": "code",
   "execution_count": 3,
   "metadata": {},
   "outputs": [
    {
     "name": "stdout",
     "output_type": "stream",
     "text": [
      "True\n",
      "False\n"
     ]
    }
   ],
   "source": [
    "class Node:\n",
    "    def __init__(self, value):\n",
    "        self.value = value\n",
    "        self.left = None\n",
    "        self.right = None\n",
    "\n",
    "\n",
    "class BinarySearchTree:\n",
    "    def __init__(self):\n",
    "        self.root = None\n",
    "\n",
    "    def insert(self, value):\n",
    "        new_node = Node(value)\n",
    "        if self.root is None:\n",
    "            self.root = new_node\n",
    "            return True\n",
    "        temp = self.root\n",
    "        while True:\n",
    "            if new_node.value == temp.value:\n",
    "                return False\n",
    "            if new_node.value < temp.value:\n",
    "                if temp.left is None:\n",
    "                    temp.left = new_node\n",
    "                    return True\n",
    "                temp = temp.left\n",
    "            else:\n",
    "                if temp.right is None:\n",
    "                    temp.right = new_node\n",
    "                    return True\n",
    "                temp = temp.right\n",
    "\n",
    "    def contains(self, value):\n",
    "        temp = self.root\n",
    "        while temp is not None:\n",
    "            if value < temp.value:\n",
    "                temp = temp.left\n",
    "            elif value > temp.value:\n",
    "                temp = temp.right\n",
    "            else:\n",
    "                return True\n",
    "        return False\n",
    "\n",
    "\n",
    "tree = BinarySearchTree()\n",
    "tree.insert(47)\n",
    "tree.insert(21)\n",
    "tree.insert(76)\n",
    "tree.insert(18)\n",
    "tree.insert(27)\n",
    "tree.insert(52)\n",
    "tree.insert(82)\n",
    "\n",
    "print(tree.contains(27))\n",
    "print(tree.contains(17))"
   ]
  }
 ],
 "metadata": {
  "kernelspec": {
   "display_name": "base",
   "language": "python",
   "name": "python3"
  },
  "language_info": {
   "codemirror_mode": {
    "name": "ipython",
    "version": 3
   },
   "file_extension": ".py",
   "mimetype": "text/x-python",
   "name": "python",
   "nbconvert_exporter": "python",
   "pygments_lexer": "ipython3",
   "version": "3.12.7"
  }
 },
 "nbformat": 4,
 "nbformat_minor": 2
}
