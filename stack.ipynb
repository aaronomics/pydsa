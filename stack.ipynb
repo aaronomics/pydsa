{
 "cells": [
  {
   "cell_type": "markdown",
   "metadata": {},
   "source": [
    "LIFO - last in first out\n",
    "\n",
    "for example, when browsing the internet, past websites viewed are in a stack when using the back button on the browser.\n",
    "\n",
    "adding to the end of the stack is o(1), but adding to the front is o(n).\n",
    "\n",
    "going to implement stack with linked list.\n",
    "\n",
    "the none needs to be at the bottom.\n",
    "\n",
    "stack has a pop_first method like linked list, and similar to prepend.\n",
    "\n",
    "stack has top/bottom instead of head/tail, but really only top"
   ]
  },
  {
   "cell_type": "code",
   "execution_count": 4,
   "metadata": {},
   "outputs": [
    {
     "name": "stdout",
     "output_type": "stream",
     "text": [
      "37\n",
      "65\n",
      "4\n",
      "None\n",
      "37\n",
      "65\n",
      "4\n"
     ]
    }
   ],
   "source": [
    "class Node:\n",
    "    def __init__(self, value):\n",
    "        self.value = value\n",
    "        self.next = None\n",
    "        \n",
    "class Stack:\n",
    "    def __init__(self, value) -> None:\n",
    "        new_node = Node(value)\n",
    "        self.top = new_node\n",
    "        self.height = 1\n",
    "        \n",
    "    def print_stack(self):\n",
    "        temp = self.top\n",
    "        while temp is not None:\n",
    "            print(temp.value)\n",
    "            temp = temp.next\n",
    "            \n",
    "    def push(self, value):\n",
    "        new_node = Node(value)\n",
    "        if self.height == 0:\n",
    "            self.top = new_node\n",
    "            self.next = None\n",
    "            # self.height = 1\n",
    "        else:\n",
    "            new_node.next = self.top\n",
    "            self.top = new_node\n",
    "        self.height +=1\n",
    "        # return True\n",
    "        \n",
    "    def pop(self):\n",
    "        if self.height == 0:\n",
    "            return None\n",
    "        \n",
    "        temp = self.top\n",
    "        self.top = self.top.next\n",
    "        temp.next = None\n",
    "        self.height -= 1\n",
    "        \n",
    "        return temp\n",
    "            \n",
    "\n",
    "sta = Stack(4)\n",
    "sta.push(65)\n",
    "sta.push(37)\n",
    "print(sta.print_stack())\n",
    "\n",
    "print(sta.pop().value)\n",
    "\n",
    "sta.print_stack()"
   ]
  }
 ],
 "metadata": {
  "kernelspec": {
   "display_name": "dsa",
   "language": "python",
   "name": "python3"
  },
  "language_info": {
   "codemirror_mode": {
    "name": "ipython",
    "version": 3
   },
   "file_extension": ".py",
   "mimetype": "text/x-python",
   "name": "python",
   "nbconvert_exporter": "python",
   "pygments_lexer": "ipython3",
   "version": "3.12.7"
  }
 },
 "nbformat": 4,
 "nbformat_minor": 2
}
